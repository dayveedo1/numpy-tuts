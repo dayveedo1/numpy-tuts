{
 "cells": [
  {
   "cell_type": "code",
   "execution_count": 1,
   "id": "c52ffe79",
   "metadata": {},
   "outputs": [],
   "source": [
    "import numpy as np"
   ]
  },
  {
   "cell_type": "code",
   "execution_count": 2,
   "id": "be345562",
   "metadata": {},
   "outputs": [],
   "source": [
    "## create a numpy array\n",
    "\n",
    "my_list = [1,2,3,4,5]                             #python list"
   ]
  },
  {
   "cell_type": "code",
   "execution_count": 3,
   "id": "8501a1a2",
   "metadata": {},
   "outputs": [
    {
     "data": {
      "text/plain": [
       "[1, 2, 3, 4, 5]"
      ]
     },
     "execution_count": 3,
     "metadata": {},
     "output_type": "execute_result"
    }
   ],
   "source": [
    "my_list"
   ]
  },
  {
   "cell_type": "code",
   "execution_count": 4,
   "id": "987cd5bc",
   "metadata": {},
   "outputs": [
    {
     "data": {
      "text/plain": [
       "list"
      ]
     },
     "execution_count": 4,
     "metadata": {},
     "output_type": "execute_result"
    }
   ],
   "source": [
    "type(my_list)"
   ]
  },
  {
   "cell_type": "code",
   "execution_count": 5,
   "id": "ce6145e6",
   "metadata": {},
   "outputs": [],
   "source": [
    "## convert python list to numpy array\n",
    "\n",
    "np_array = np.array(my_list)                   #convert python list to np array"
   ]
  },
  {
   "cell_type": "code",
   "execution_count": 6,
   "id": "0d69bba1",
   "metadata": {},
   "outputs": [
    {
     "data": {
      "text/plain": [
       "array([1, 2, 3, 4, 5])"
      ]
     },
     "execution_count": 6,
     "metadata": {},
     "output_type": "execute_result"
    }
   ],
   "source": [
    "np_array"
   ]
  },
  {
   "cell_type": "code",
   "execution_count": 7,
   "id": "9a9d0bf8",
   "metadata": {},
   "outputs": [
    {
     "data": {
      "text/plain": [
       "numpy.ndarray"
      ]
     },
     "execution_count": 7,
     "metadata": {},
     "output_type": "execute_result"
    }
   ],
   "source": [
    "type(np_array)"
   ]
  },
  {
   "cell_type": "code",
   "execution_count": 8,
   "id": "8637bb89",
   "metadata": {},
   "outputs": [],
   "source": [
    "## multi-dimension matrix to np-array\n",
    "my_matrix = [[1,2,3], [4,5,6]]                        #python nested list"
   ]
  },
  {
   "cell_type": "code",
   "execution_count": 9,
   "id": "091e9d0f",
   "metadata": {},
   "outputs": [],
   "source": [
    "my_2d_array = np.array(my_matrix)                       #convert to n-dimension np-array"
   ]
  },
  {
   "cell_type": "code",
   "execution_count": 10,
   "id": "3e226916",
   "metadata": {},
   "outputs": [
    {
     "data": {
      "text/plain": [
       "array([[1, 2, 3],\n",
       "       [4, 5, 6]])"
      ]
     },
     "execution_count": 10,
     "metadata": {},
     "output_type": "execute_result"
    }
   ],
   "source": [
    "my_2d_array"
   ]
  },
  {
   "cell_type": "code",
   "execution_count": 11,
   "id": "88812ed5",
   "metadata": {},
   "outputs": [
    {
     "data": {
      "text/plain": [
       "2"
      ]
     },
     "execution_count": 11,
     "metadata": {},
     "output_type": "execute_result"
    }
   ],
   "source": [
    "my_2d_array.ndim                                     #get the dimension of a np-array"
   ]
  },
  {
   "cell_type": "code",
   "execution_count": 12,
   "id": "cc5bbfe4",
   "metadata": {},
   "outputs": [
    {
     "data": {
      "text/plain": [
       "(2, 3)"
      ]
     },
     "execution_count": 12,
     "metadata": {},
     "output_type": "execute_result"
    }
   ],
   "source": [
    "my_2d_array.shape                                  # get the shape of np-array with respect to dimensions (2r, 3c) *hr, cv*"
   ]
  },
  {
   "cell_type": "code",
   "execution_count": 13,
   "id": "ba2c77d9",
   "metadata": {},
   "outputs": [
    {
     "data": {
      "text/plain": [
       "(5,)"
      ]
     },
     "execution_count": 13,
     "metadata": {},
     "output_type": "execute_result"
    }
   ],
   "source": [
    "np_array.shape                                   # shape of np-array (5r, ) == 1c"
   ]
  },
  {
   "cell_type": "code",
   "execution_count": 14,
   "id": "0d884f1c",
   "metadata": {},
   "outputs": [
    {
     "data": {
      "text/plain": [
       "array([0, 1, 2, 3, 4, 5, 6, 7, 8, 9])"
      ]
     },
     "execution_count": 14,
     "metadata": {},
     "output_type": "execute_result"
    }
   ],
   "source": [
    "# create a numpy array using arange()\n",
    "np.arange(0,10)                                 # create np-array with values from 0 to <10, excluding 10"
   ]
  },
  {
   "cell_type": "code",
   "execution_count": 15,
   "id": "cd09902c",
   "metadata": {},
   "outputs": [
    {
     "data": {
      "text/plain": [
       "array([ 0,  2,  4,  6,  8, 10])"
      ]
     },
     "execution_count": 15,
     "metadata": {},
     "output_type": "execute_result"
    }
   ],
   "source": [
    "# using arange parameters to modify np-array\n",
    "np.arange(0,11,2)                            #create np-array with values from 0 to 11, excluding 1, skip 2 elements"
   ]
  },
  {
   "cell_type": "code",
   "execution_count": 16,
   "id": "6431b3cc",
   "metadata": {},
   "outputs": [
    {
     "data": {
      "text/plain": [
       "array([0., 0., 0., 0., 0.])"
      ]
     },
     "execution_count": 16,
     "metadata": {},
     "output_type": "execute_result"
    }
   ],
   "source": [
    "## create an array and declare the shape with values 0\n",
    "np.zeros(5)                                   #creates an array with 5 zeros, array shape = (5,1)"
   ]
  },
  {
   "cell_type": "code",
   "execution_count": 17,
   "id": "56353950",
   "metadata": {},
   "outputs": [
    {
     "data": {
      "text/plain": [
       "array([[0., 0., 0., 0., 0.],\n",
       "       [0., 0., 0., 0., 0.],\n",
       "       [0., 0., 0., 0., 0.],\n",
       "       [0., 0., 0., 0., 0.]])"
      ]
     },
     "execution_count": 17,
     "metadata": {},
     "output_type": "execute_result"
    }
   ],
   "source": [
    "## manipulating the shape of zeros array\n",
    "np.zeros((4,5))                           #creates an array with 5 zeros, array shape = (5,5) 2D"
   ]
  },
  {
   "cell_type": "code",
   "execution_count": 18,
   "id": "5e299dd8",
   "metadata": {},
   "outputs": [
    {
     "data": {
      "text/plain": [
       "array([[[0., 0., 0.],\n",
       "        [0., 0., 0.],\n",
       "        [0., 0., 0.],\n",
       "        [0., 0., 0.],\n",
       "        [0., 0., 0.]],\n",
       "\n",
       "       [[0., 0., 0.],\n",
       "        [0., 0., 0.],\n",
       "        [0., 0., 0.],\n",
       "        [0., 0., 0.],\n",
       "        [0., 0., 0.]],\n",
       "\n",
       "       [[0., 0., 0.],\n",
       "        [0., 0., 0.],\n",
       "        [0., 0., 0.],\n",
       "        [0., 0., 0.],\n",
       "        [0., 0., 0.]],\n",
       "\n",
       "       [[0., 0., 0.],\n",
       "        [0., 0., 0.],\n",
       "        [0., 0., 0.],\n",
       "        [0., 0., 0.],\n",
       "        [0., 0., 0.]],\n",
       "\n",
       "       [[0., 0., 0.],\n",
       "        [0., 0., 0.],\n",
       "        [0., 0., 0.],\n",
       "        [0., 0., 0.],\n",
       "        [0., 0., 0.]]])"
      ]
     },
     "execution_count": 18,
     "metadata": {},
     "output_type": "execute_result"
    }
   ],
   "source": [
    "np.zeros((5,5,3))                        #creates an array with zeros, array shape = (5r-depth, 5r, 3c) 3D"
   ]
  },
  {
   "cell_type": "code",
   "execution_count": 19,
   "id": "09829234",
   "metadata": {},
   "outputs": [
    {
     "data": {
      "text/plain": [
       "array([[[1., 1., 1.],\n",
       "        [1., 1., 1.],\n",
       "        [1., 1., 1.],\n",
       "        [1., 1., 1.],\n",
       "        [1., 1., 1.]],\n",
       "\n",
       "       [[1., 1., 1.],\n",
       "        [1., 1., 1.],\n",
       "        [1., 1., 1.],\n",
       "        [1., 1., 1.],\n",
       "        [1., 1., 1.]],\n",
       "\n",
       "       [[1., 1., 1.],\n",
       "        [1., 1., 1.],\n",
       "        [1., 1., 1.],\n",
       "        [1., 1., 1.],\n",
       "        [1., 1., 1.]]])"
      ]
     },
     "execution_count": 19,
     "metadata": {},
     "output_type": "execute_result"
    }
   ],
   "source": [
    "np.ones((3,5,3))"
   ]
  },
  {
   "cell_type": "code",
   "execution_count": 20,
   "id": "38b55efd",
   "metadata": {},
   "outputs": [
    {
     "data": {
      "text/plain": [
       "array([0.56831397, 0.64195003, 0.73976039, 0.89980509, 0.9206882 ])"
      ]
     },
     "execution_count": 20,
     "metadata": {},
     "output_type": "execute_result"
    }
   ],
   "source": [
    "## arrays with random numbers\n",
    "np.random.rand(5)                                # generate random number array between 0  to 1"
   ]
  },
  {
   "cell_type": "code",
   "execution_count": 21,
   "id": "42774554",
   "metadata": {},
   "outputs": [
    {
     "data": {
      "text/plain": [
       "array([[0.11682228, 0.07535527, 0.64208825],\n",
       "       [0.38197547, 0.33405086, 0.93920756],\n",
       "       [0.84349132, 0.84854588, 0.86720041],\n",
       "       [0.76861002, 0.37385344, 0.42134854],\n",
       "       [0.87718619, 0.86401429, 0.13616437]])"
      ]
     },
     "execution_count": 21,
     "metadata": {},
     "output_type": "execute_result"
    }
   ],
   "source": [
    "np.random.rand(5,3)                             # generate random number array between 0  to 1 with shape= (5r, 3c)\n"
   ]
  },
  {
   "cell_type": "code",
   "execution_count": 23,
   "id": "be12fcf2",
   "metadata": {},
   "outputs": [
    {
     "data": {
      "text/plain": [
       "array([ 5, 36, 59, 47, 71, 10, 19, 54, 16, 47])"
      ]
     },
     "execution_count": 23,
     "metadata": {},
     "output_type": "execute_result"
    }
   ],
   "source": [
    "np.random.randint(0, 101, 10)                 # generate 10 random integer numbers between 0 & 100 (101 excluded)"
   ]
  },
  {
   "cell_type": "code",
   "execution_count": 24,
   "id": "28d2130b",
   "metadata": {},
   "outputs": [
    {
     "data": {
      "text/plain": [
       "array([[ 0, 15, 19, 10,  6],\n",
       "       [ 1,  4, 16, 10, 17],\n",
       "       [ 0, 16,  8,  2,  5],\n",
       "       [20,  1,  5,  1,  0],\n",
       "       [14,  5,  1,  3,  0],\n",
       "       [15, 19,  0,  5, 17],\n",
       "       [17, 17,  2, 17, 16],\n",
       "       [16,  5,  4, 17, 15],\n",
       "       [18,  7, 13,  9, 11],\n",
       "       [ 9, 20,  8,  4,  3]])"
      ]
     },
     "execution_count": 24,
     "metadata": {},
     "output_type": "execute_result"
    }
   ],
   "source": [
    "np.random.randint(0, 21, (10,5))                 # generate 10cx5r random integer numbers between 0 & 20 (21 excluded)"
   ]
  },
  {
   "cell_type": "code",
   "execution_count": 25,
   "id": "1c665ebd",
   "metadata": {},
   "outputs": [
    {
     "data": {
      "text/plain": [
       "array([52, 93, 15, 72, 61, 21, 83, 87, 75, 75])"
      ]
     },
     "execution_count": 25,
     "metadata": {},
     "output_type": "execute_result"
    }
   ],
   "source": [
    "np.random.seed(42)                           # generate random numbers but generate the same values across multiple users\n",
    "np.random.randint(1,101,10)"
   ]
  },
  {
   "cell_type": "code",
   "execution_count": 27,
   "id": "790323cb",
   "metadata": {},
   "outputs": [
    {
     "data": {
      "text/plain": [
       "array([[10, 16, 65, 29, 90],\n",
       "       [94, 30,  9, 74,  1]])"
      ]
     },
     "execution_count": 27,
     "metadata": {},
     "output_type": "execute_result"
    }
   ],
   "source": [
    "# array reshaping\n",
    "# array with same dimensions can be reshaped\n",
    "\n",
    "np.random.seed(10)                         \n",
    "seed_arr = np.random.randint(1,101,10)\n",
    "\n",
    "seed_arr.reshape(2,5)                # reshaping array to 2rx5c. NOTE: original dim = 1rx10c"
   ]
  },
  {
   "cell_type": "code",
   "execution_count": 28,
   "id": "a23a0fae",
   "metadata": {},
   "outputs": [
    {
     "data": {
      "text/plain": [
       "1"
      ]
     },
     "execution_count": 28,
     "metadata": {},
     "output_type": "execute_result"
    }
   ],
   "source": [
    "# Minimum value in array\n",
    "\n",
    "seed_arr.min()                       # get minimum value of array"
   ]
  },
  {
   "cell_type": "code",
   "execution_count": 29,
   "id": "8f071f31",
   "metadata": {},
   "outputs": [
    {
     "data": {
      "text/plain": [
       "94"
      ]
     },
     "execution_count": 29,
     "metadata": {},
     "output_type": "execute_result"
    }
   ],
   "source": [
    "# Maximum value in array\n",
    "\n",
    "seed_arr.max()                       # get maximum value of array"
   ]
  },
  {
   "cell_type": "code",
   "execution_count": 30,
   "id": "91359d3c",
   "metadata": {},
   "outputs": [
    {
     "data": {
      "text/plain": [
       "41.8"
      ]
     },
     "execution_count": 30,
     "metadata": {},
     "output_type": "execute_result"
    }
   ],
   "source": [
    "# Mean average of values in array\n",
    "\n",
    "seed_arr.mean()"
   ]
  },
  {
   "cell_type": "code",
   "execution_count": 31,
   "id": "2f051f57",
   "metadata": {},
   "outputs": [
    {
     "data": {
      "text/plain": [
       "33.68026128164685"
      ]
     },
     "execution_count": 31,
     "metadata": {},
     "output_type": "execute_result"
    }
   ],
   "source": [
    "# Standard Deviation of values in arr\n",
    "seed_arr.std()"
   ]
  },
  {
   "cell_type": "code",
   "execution_count": 33,
   "id": "8175c96e",
   "metadata": {},
   "outputs": [
    {
     "data": {
      "text/plain": [
       "array([ 0,  1,  2,  3,  4,  5,  6,  7,  8,  9, 10])"
      ]
     },
     "execution_count": 33,
     "metadata": {},
     "output_type": "execute_result"
    }
   ],
   "source": [
    "## SELECTION & INDEXING\n",
    "\n",
    "ind_arr = np.arange(0,11)     #generate values between range 0-10\n",
    "ind_arr"
   ]
  },
  {
   "cell_type": "code",
   "execution_count": 35,
   "id": "1a6765d1",
   "metadata": {},
   "outputs": [
    {
     "data": {
      "text/plain": [
       "7"
      ]
     },
     "execution_count": 35,
     "metadata": {},
     "output_type": "execute_result"
    }
   ],
   "source": [
    "# Array Indexing\n",
    "ind_arr[7]"
   ]
  },
  {
   "cell_type": "code",
   "execution_count": 36,
   "id": "58ad0f8e",
   "metadata": {},
   "outputs": [
    {
     "data": {
      "text/plain": [
       "10"
      ]
     },
     "execution_count": 36,
     "metadata": {},
     "output_type": "execute_result"
    }
   ],
   "source": [
    "ind_arr[-1]                    # indexing array from the end with negative values"
   ]
  },
  {
   "cell_type": "code",
   "execution_count": 37,
   "id": "0f1bd6e0",
   "metadata": {},
   "outputs": [
    {
     "data": {
      "text/plain": [
       "array([2, 3, 4, 5, 6, 7, 8])"
      ]
     },
     "execution_count": 37,
     "metadata": {},
     "output_type": "execute_result"
    }
   ],
   "source": [
    "# Array SLicing\n",
    "ind_arr[2:9]                 # retrieve the values of array indexes starting from 2-8 (9 excluded)"
   ]
  },
  {
   "cell_type": "code",
   "execution_count": 38,
   "id": "8834a267",
   "metadata": {},
   "outputs": [
    {
     "data": {
      "text/plain": [
       "array([0, 1, 2, 3, 4, 5, 6, 7])"
      ]
     },
     "execution_count": 38,
     "metadata": {},
     "output_type": "execute_result"
    }
   ],
   "source": [
    "ind_arr[0:8]"
   ]
  },
  {
   "cell_type": "code",
   "execution_count": 39,
   "id": "4c543fb4",
   "metadata": {},
   "outputs": [
    {
     "data": {
      "text/plain": [
       "array([0, 1, 2, 3, 4, 5, 6, 7])"
      ]
     },
     "execution_count": 39,
     "metadata": {},
     "output_type": "execute_result"
    }
   ],
   "source": [
    "ind_arr[:8]              # begining of array to index-1"
   ]
  },
  {
   "cell_type": "code",
   "execution_count": 40,
   "id": "15c82f77",
   "metadata": {},
   "outputs": [
    {
     "data": {
      "text/plain": [
       "array([ 5,  6,  7,  8,  9, 10])"
      ]
     },
     "execution_count": 40,
     "metadata": {},
     "output_type": "execute_result"
    }
   ],
   "source": [
    "ind_arr[5:]              # index 5 to end of array"
   ]
  },
  {
   "cell_type": "code",
   "execution_count": 43,
   "id": "9d359301",
   "metadata": {},
   "outputs": [
    {
     "data": {
      "text/plain": [
       "array([[50, 46, 26],\n",
       "       [21, 64, 98],\n",
       "       [72, 43, 82]])"
      ]
     },
     "execution_count": 43,
     "metadata": {},
     "output_type": "execute_result"
    }
   ],
   "source": [
    "# Array Indexing with N-Dimension Array\n",
    "\n",
    "dualdim_arr = np.random.randint(10, 101, (3,3))\n",
    "dualdim_arr"
   ]
  },
  {
   "cell_type": "code",
   "execution_count": 45,
   "id": "4d92c9b7",
   "metadata": {},
   "outputs": [
    {
     "data": {
      "text/plain": [
       "43"
      ]
     },
     "execution_count": 45,
     "metadata": {},
     "output_type": "execute_result"
    }
   ],
   "source": [
    "dualdim_arr[2][1]           # arr[row][col] = [down vertical][side horizontal]"
   ]
  },
  {
   "cell_type": "code",
   "execution_count": 47,
   "id": "4ece6896",
   "metadata": {},
   "outputs": [
    {
     "data": {
      "text/plain": [
       "43"
      ]
     },
     "execution_count": 47,
     "metadata": {},
     "output_type": "execute_result"
    }
   ],
   "source": [
    "dualdim_arr[2,1]           # shorter way to access elements in N-Dimension array"
   ]
  },
  {
   "cell_type": "code",
   "execution_count": null,
   "id": "f33d4f76",
   "metadata": {},
   "outputs": [],
   "source": []
  }
 ],
 "metadata": {
  "kernelspec": {
   "display_name": "Python 3 (ipykernel)",
   "language": "python",
   "name": "python3"
  },
  "language_info": {
   "codemirror_mode": {
    "name": "ipython",
    "version": 3
   },
   "file_extension": ".py",
   "mimetype": "text/x-python",
   "name": "python",
   "nbconvert_exporter": "python",
   "pygments_lexer": "ipython3",
   "version": "3.9.12"
  }
 },
 "nbformat": 4,
 "nbformat_minor": 5
}
