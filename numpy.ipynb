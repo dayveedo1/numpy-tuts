{
 "cells": [
  {
   "cell_type": "code",
   "execution_count": 1,
   "id": "c52ffe79",
   "metadata": {},
   "outputs": [],
   "source": [
    "import numpy as np"
   ]
  },
  {
   "cell_type": "code",
   "execution_count": 2,
   "id": "be345562",
   "metadata": {},
   "outputs": [],
   "source": [
    "## create a numpy array\n",
    "\n",
    "my_list = [1,2,3,4,5]                             #python list"
   ]
  },
  {
   "cell_type": "code",
   "execution_count": 4,
   "id": "8501a1a2",
   "metadata": {},
   "outputs": [
    {
     "data": {
      "text/plain": [
       "[1, 2, 3, 4, 5]"
      ]
     },
     "execution_count": 4,
     "metadata": {},
     "output_type": "execute_result"
    }
   ],
   "source": [
    "my_list"
   ]
  },
  {
   "cell_type": "code",
   "execution_count": 5,
   "id": "987cd5bc",
   "metadata": {},
   "outputs": [
    {
     "data": {
      "text/plain": [
       "list"
      ]
     },
     "execution_count": 5,
     "metadata": {},
     "output_type": "execute_result"
    }
   ],
   "source": [
    "type(my_list)"
   ]
  },
  {
   "cell_type": "code",
   "execution_count": 8,
   "id": "ce6145e6",
   "metadata": {},
   "outputs": [],
   "source": [
    "## convert python list to numpy array\n",
    "\n",
    "np_array = np.array(my_list)                   #convert python list to np array"
   ]
  },
  {
   "cell_type": "code",
   "execution_count": 9,
   "id": "0d69bba1",
   "metadata": {},
   "outputs": [
    {
     "data": {
      "text/plain": [
       "array([1, 2, 3, 4, 5])"
      ]
     },
     "execution_count": 9,
     "metadata": {},
     "output_type": "execute_result"
    }
   ],
   "source": [
    "np_array"
   ]
  },
  {
   "cell_type": "code",
   "execution_count": 10,
   "id": "9a9d0bf8",
   "metadata": {},
   "outputs": [
    {
     "data": {
      "text/plain": [
       "numpy.ndarray"
      ]
     },
     "execution_count": 10,
     "metadata": {},
     "output_type": "execute_result"
    }
   ],
   "source": [
    "type(np_array)"
   ]
  },
  {
   "cell_type": "code",
   "execution_count": 11,
   "id": "8637bb89",
   "metadata": {},
   "outputs": [],
   "source": [
    "## multi-dimension matrix to np-array\n",
    "my_matrix = [[1,2,3], [4,5,6]]                        #python nested list"
   ]
  },
  {
   "cell_type": "code",
   "execution_count": 15,
   "id": "091e9d0f",
   "metadata": {},
   "outputs": [],
   "source": [
    "my_2d_array = np.array(my_matrix)                       #convert to n-dimension np-array"
   ]
  },
  {
   "cell_type": "code",
   "execution_count": 16,
   "id": "3e226916",
   "metadata": {},
   "outputs": [
    {
     "data": {
      "text/plain": [
       "array([[1, 2, 3],\n",
       "       [4, 5, 6]])"
      ]
     },
     "execution_count": 16,
     "metadata": {},
     "output_type": "execute_result"
    }
   ],
   "source": [
    "my_2d_array"
   ]
  },
  {
   "cell_type": "code",
   "execution_count": 17,
   "id": "88812ed5",
   "metadata": {},
   "outputs": [
    {
     "data": {
      "text/plain": [
       "2"
      ]
     },
     "execution_count": 17,
     "metadata": {},
     "output_type": "execute_result"
    }
   ],
   "source": [
    "my_2d_array.ndim                                     #get the dimension of a np-array"
   ]
  },
  {
   "cell_type": "code",
   "execution_count": 18,
   "id": "cc5bbfe4",
   "metadata": {},
   "outputs": [
    {
     "data": {
      "text/plain": [
       "(2, 3)"
      ]
     },
     "execution_count": 18,
     "metadata": {},
     "output_type": "execute_result"
    }
   ],
   "source": [
    "my_2d_array.shape                                  # get the shape of np-array with respect to dimensions (2r, 3c) *hr, cv*"
   ]
  },
  {
   "cell_type": "code",
   "execution_count": 19,
   "id": "ba2c77d9",
   "metadata": {},
   "outputs": [
    {
     "data": {
      "text/plain": [
       "(5,)"
      ]
     },
     "execution_count": 19,
     "metadata": {},
     "output_type": "execute_result"
    }
   ],
   "source": [
    "np_array.shape                                   # shape of np-array (5r, ) == 1c"
   ]
  },
  {
   "cell_type": "code",
   "execution_count": 20,
   "id": "0d884f1c",
   "metadata": {},
   "outputs": [
    {
     "data": {
      "text/plain": [
       "array([0, 1, 2, 3, 4, 5, 6, 7, 8, 9])"
      ]
     },
     "execution_count": 20,
     "metadata": {},
     "output_type": "execute_result"
    }
   ],
   "source": [
    "# create a numpy array using arange()\n",
    "np.arange(0,10)                                 # create np-array with values from 0 to <10, excluding 10"
   ]
  },
  {
   "cell_type": "code",
   "execution_count": 22,
   "id": "cd09902c",
   "metadata": {},
   "outputs": [
    {
     "data": {
      "text/plain": [
       "array([ 0,  2,  4,  6,  8, 10])"
      ]
     },
     "execution_count": 22,
     "metadata": {},
     "output_type": "execute_result"
    }
   ],
   "source": [
    "# using arange parameters to modify np-array\n",
    "np.arange(0,11,2)                            #create np-array with values from 0 to 11, excluding 1, skip 2 elements"
   ]
  },
  {
   "cell_type": "code",
   "execution_count": 24,
   "id": "6431b3cc",
   "metadata": {},
   "outputs": [
    {
     "data": {
      "text/plain": [
       "array([0., 0., 0., 0., 0.])"
      ]
     },
     "execution_count": 24,
     "metadata": {},
     "output_type": "execute_result"
    }
   ],
   "source": [
    "## create an array and declare the shape with values 0\n",
    "np.zeros(5)                                   #creates an array with 5 zeros, array shape = (5,1)"
   ]
  },
  {
   "cell_type": "code",
   "execution_count": 28,
   "id": "56353950",
   "metadata": {},
   "outputs": [
    {
     "data": {
      "text/plain": [
       "array([[0., 0., 0., 0., 0.],\n",
       "       [0., 0., 0., 0., 0.],\n",
       "       [0., 0., 0., 0., 0.],\n",
       "       [0., 0., 0., 0., 0.]])"
      ]
     },
     "execution_count": 28,
     "metadata": {},
     "output_type": "execute_result"
    }
   ],
   "source": [
    "## manipulating the shape of zeros array\n",
    "np.zeros((4,5))                           #creates an array with 5 zeros, array shape = (5,5) 2D"
   ]
  },
  {
   "cell_type": "code",
   "execution_count": 30,
   "id": "5e299dd8",
   "metadata": {},
   "outputs": [
    {
     "data": {
      "text/plain": [
       "array([[[0., 0., 0.],\n",
       "        [0., 0., 0.],\n",
       "        [0., 0., 0.],\n",
       "        [0., 0., 0.],\n",
       "        [0., 0., 0.]],\n",
       "\n",
       "       [[0., 0., 0.],\n",
       "        [0., 0., 0.],\n",
       "        [0., 0., 0.],\n",
       "        [0., 0., 0.],\n",
       "        [0., 0., 0.]],\n",
       "\n",
       "       [[0., 0., 0.],\n",
       "        [0., 0., 0.],\n",
       "        [0., 0., 0.],\n",
       "        [0., 0., 0.],\n",
       "        [0., 0., 0.]],\n",
       "\n",
       "       [[0., 0., 0.],\n",
       "        [0., 0., 0.],\n",
       "        [0., 0., 0.],\n",
       "        [0., 0., 0.],\n",
       "        [0., 0., 0.]],\n",
       "\n",
       "       [[0., 0., 0.],\n",
       "        [0., 0., 0.],\n",
       "        [0., 0., 0.],\n",
       "        [0., 0., 0.],\n",
       "        [0., 0., 0.]]])"
      ]
     },
     "execution_count": 30,
     "metadata": {},
     "output_type": "execute_result"
    }
   ],
   "source": [
    "np.zeros((5,5,3))                        #creates an array with zeros, array shape = (5r-depth, 5r, 3c) 3D"
   ]
  },
  {
   "cell_type": "code",
   "execution_count": 32,
   "id": "09829234",
   "metadata": {},
   "outputs": [
    {
     "data": {
      "text/plain": [
       "array([[[1., 1., 1.],\n",
       "        [1., 1., 1.],\n",
       "        [1., 1., 1.],\n",
       "        [1., 1., 1.],\n",
       "        [1., 1., 1.]],\n",
       "\n",
       "       [[1., 1., 1.],\n",
       "        [1., 1., 1.],\n",
       "        [1., 1., 1.],\n",
       "        [1., 1., 1.],\n",
       "        [1., 1., 1.]],\n",
       "\n",
       "       [[1., 1., 1.],\n",
       "        [1., 1., 1.],\n",
       "        [1., 1., 1.],\n",
       "        [1., 1., 1.],\n",
       "        [1., 1., 1.]]])"
      ]
     },
     "execution_count": 32,
     "metadata": {},
     "output_type": "execute_result"
    }
   ],
   "source": [
    "np.ones((3,5,3))"
   ]
  },
  {
   "cell_type": "code",
   "execution_count": 34,
   "id": "38b55efd",
   "metadata": {},
   "outputs": [
    {
     "data": {
      "text/plain": [
       "array([0.05260822, 0.81963841, 0.47698423, 0.44003659, 0.77808398])"
      ]
     },
     "execution_count": 34,
     "metadata": {},
     "output_type": "execute_result"
    }
   ],
   "source": [
    "## arrays with random numbers\n",
    "np.random.rand(5)                                # generate random number array between 0  to 1"
   ]
  },
  {
   "cell_type": "code",
   "execution_count": 35,
   "id": "42774554",
   "metadata": {},
   "outputs": [
    {
     "data": {
      "text/plain": [
       "array([[0.59508131, 0.60095675, 0.28688565],\n",
       "       [0.3263064 , 0.11970873, 0.28364983],\n",
       "       [0.81319737, 0.20705685, 0.22187883],\n",
       "       [0.6382951 , 0.82163415, 0.90256369],\n",
       "       [0.47177251, 0.41438592, 0.91985204]])"
      ]
     },
     "execution_count": 35,
     "metadata": {},
     "output_type": "execute_result"
    }
   ],
   "source": [
    "np.random.rand(5,3)                             # generate random number array between 0  to 1 with shape= (5r, 3c)\n"
   ]
  },
  {
   "cell_type": "code",
   "execution_count": null,
   "id": "be12fcf2",
   "metadata": {},
   "outputs": [],
   "source": []
  }
 ],
 "metadata": {
  "kernelspec": {
   "display_name": "Python 3 (ipykernel)",
   "language": "python",
   "name": "python3"
  },
  "language_info": {
   "codemirror_mode": {
    "name": "ipython",
    "version": 3
   },
   "file_extension": ".py",
   "mimetype": "text/x-python",
   "name": "python",
   "nbconvert_exporter": "python",
   "pygments_lexer": "ipython3",
   "version": "3.9.12"
  }
 },
 "nbformat": 4,
 "nbformat_minor": 5
}
